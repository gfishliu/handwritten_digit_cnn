{
 "cells": [
  {
   "cell_type": "code",
   "execution_count": 24,
   "metadata": {},
   "outputs": [],
   "source": [
    "import keras\n",
    "from keras.datasets import mnist\n",
    "from keras.layers import Conv2D, MaxPooling2D\n",
    "from keras.layers import Dense, Flatten\n",
    "from keras.models import Sequential"
   ]
  },
  {
   "cell_type": "code",
   "execution_count": 25,
   "metadata": {},
   "outputs": [],
   "source": [
    "(x_train, y_train), (x_test, y_test) = mnist.load_data()\n",
    "\n",
    "# 输入数据为 mnist 数据集\n",
    "x_train = x_train.reshape(x_train.shape[0], 28, 28, 1)\n",
    "x_test = x_test.reshape(x_test.shape[0], 28, 28, 1)\n",
    "\n",
    "x_train = x_train / 255\n",
    "x_test = x_test / 255\n",
    "\n",
    "y_train = keras.utils.to_categorical(y_train, 10)\n",
    "y_test = keras.utils.to_categorical(y_test, 10)"
   ]
  },
  {
   "cell_type": "code",
   "execution_count": 26,
   "metadata": {},
   "outputs": [
    {
     "name": "stdout",
     "output_type": "stream",
     "text": [
      "Train on 60000 samples, validate on 10000 samples\n",
      "Epoch 1/10\n",
      "60000/60000 [==============================] - 40s 672us/step - loss: 0.3235 - acc: 0.9051 - val_loss: 0.1069 - val_acc: 0.9651\n",
      "Epoch 2/10\n",
      "60000/60000 [==============================] - 38s 634us/step - loss: 0.0919 - acc: 0.9714 - val_loss: 0.0690 - val_acc: 0.9778\n",
      "Epoch 3/10\n",
      "60000/60000 [==============================] - 37s 621us/step - loss: 0.0659 - acc: 0.9792 - val_loss: 0.0559 - val_acc: 0.9824\n",
      "Epoch 4/10\n",
      "60000/60000 [==============================] - 32s 528us/step - loss: 0.0508 - acc: 0.9842 - val_loss: 0.0432 - val_acc: 0.9856\n",
      "Epoch 5/10\n",
      "60000/60000 [==============================] - 29s 487us/step - loss: 0.0439 - acc: 0.9861 - val_loss: 0.0432 - val_acc: 0.9858\n",
      "Epoch 6/10\n",
      "60000/60000 [==============================] - 30s 498us/step - loss: 0.0359 - acc: 0.9882 - val_loss: 0.0414 - val_acc: 0.9864\n",
      "Epoch 7/10\n",
      "60000/60000 [==============================] - 30s 503us/step - loss: 0.0316 - acc: 0.9900 - val_loss: 0.0488 - val_acc: 0.9841\n",
      "Epoch 8/10\n",
      "60000/60000 [==============================] - 30s 503us/step - loss: 0.0277 - acc: 0.9909 - val_loss: 0.0355 - val_acc: 0.9896\n",
      "Epoch 9/10\n",
      "60000/60000 [==============================] - 30s 504us/step - loss: 0.0247 - acc: 0.9920 - val_loss: 0.0390 - val_acc: 0.9885\n",
      "Epoch 10/10\n",
      "60000/60000 [==============================] - 30s 504us/step - loss: 0.0215 - acc: 0.9929 - val_loss: 0.0395 - val_acc: 0.9874\n"
     ]
    },
    {
     "data": {
      "text/plain": [
       "<keras.callbacks.History at 0xb5ad8c2e8>"
      ]
     },
     "execution_count": 26,
     "metadata": {},
     "output_type": "execute_result"
    }
   ],
   "source": [
    "model = Sequential()\n",
    "\n",
    "# 选取6个特征卷积核，大小为5∗5(不包含偏置),得到66个特征图，每个特征图的大小为32−5+1=2832−5+1=28，\n",
    "# 也就是神经元的个数由10241024减小到了28∗28=78428∗28=784。\n",
    "# 输入层与C1层之间的参数:6∗(5∗5+1)\n",
    "model.add(Conv2D(6, kernel_size=(5, 5), activation='relu', input_shape=(28, 28, 1)))\n",
    "\n",
    "# 这一层的输入为第一层的输出，是一个28*28*6的节点矩阵。\n",
    "# 本层采用的过滤器大小为2*2，长和宽的步长均为2，所以本层的输出矩阵大小为14*14*6。\n",
    "model.add(MaxPooling2D(pool_size=(2, 2)))\n",
    "\n",
    "# 本层的输入矩阵大小为14*14*6，使用的过滤器大小为5*5，深度为16.本层不使用全0填充，步长为1。\n",
    "# 本层的输出矩阵大小为10*10*16。本层有5*5*6*16+16=2416个参数\n",
    "model.add(Conv2D(16, kernel_size=(5, 5), activation='relu'))\n",
    "\n",
    "# 本层的输入矩阵大小10*10*16。本层采用的过滤器大小为2*2，长和宽的步长均为2，所以本层的输出矩阵大小为5*5*16。\n",
    "model.add(MaxPooling2D(pool_size=(2, 2)))\n",
    "\n",
    "# 本层的输入矩阵大小为5*5*16，在LeNet-5论文中将这一层称为卷积层，但是因为过滤器的大小就是5*5，#\n",
    "# 所以和全连接层没有区别。如果将5*5*16矩阵中的节点拉成一个向量，那么这一层和全连接层就一样了。\n",
    "# 本层的输出节点个数为120，总共有5*5*16*120+120=48120个参数。\n",
    "model.add(Flatten())\n",
    "model.add(Dense(120, activation='relu'))\n",
    "\n",
    "# 本层的输入节点个数为120个，输出节点个数为84个，总共参数为120*84+84=10164个 (w + b)\n",
    "model.add(Dense(84, activation='relu'))\n",
    "\n",
    "# 本层的输入节点个数为84个，输出节点个数为10个，总共参数为84*10+10=850\n",
    "model.add(Dense(10, activation='softmax'))\n",
    "\n",
    "model.compile(loss=keras.metrics.categorical_crossentropy, optimizer=keras.optimizers.Adam(), metrics=['accuracy'])\n",
    "\n",
    "model.fit(x_train, y_train, batch_size=128, epochs=10, verbose=1, validation_data=(x_test, y_test))"
   ]
  },
  {
   "cell_type": "code",
   "execution_count": 28,
   "metadata": {},
   "outputs": [
    {
     "name": "stdout",
     "output_type": "stream",
     "text": [
      "10000/10000 [==============================] - 2s 218us/step\n",
      "Test Loss: 0.03950586889947299\n",
      "Test accuracy: 0.9874\n"
     ]
    }
   ],
   "source": [
    "score = model.evaluate(x_test, y_test)\n",
    "print('Test Loss:', score[0])\n",
    "print('Test accuracy:', score[1])"
   ]
  }
 ],
 "metadata": {
  "kernelspec": {
   "display_name": "Python 3",
   "language": "python",
   "name": "python3"
  },
  "language_info": {
   "codemirror_mode": {
    "name": "ipython",
    "version": 3
   },
   "file_extension": ".py",
   "mimetype": "text/x-python",
   "name": "python",
   "nbconvert_exporter": "python",
   "pygments_lexer": "ipython3",
   "version": "3.7.3"
  }
 },
 "nbformat": 4,
 "nbformat_minor": 2
}
